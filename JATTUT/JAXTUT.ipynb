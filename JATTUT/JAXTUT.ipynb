{
 "cells": [
  {
   "cell_type": "markdown",
   "metadata": {},
   "source": [
    "We're going to follow all of JAX's tutorials so that we don't have to hobble around it anymore."
   ]
  },
  {
   "cell_type": "markdown",
   "metadata": {},
   "source": [
    "Using Jax.jit() we can compile sequences of operations to be done using XLA. We can start by implementing a SiLU function"
   ]
  },
  {
   "cell_type": "markdown",
   "metadata": {},
   "source": [
    "Jax allows for numpy like interface."
   ]
  },
  {
   "cell_type": "code",
   "execution_count": 4,
   "metadata": {},
   "outputs": [
    {
     "name": "stdout",
     "output_type": "stream",
     "text": [
      "[0.        1.05      2.1       3.1499999 4.2      ]\n"
     ]
    }
   ],
   "source": [
    "import jax.numpy as jnp\n",
    "\n",
    "def selu(x, alpha=1.67, lmbda = 1.05):\n",
    "    return lmbda * jnp.where(x > 0, x, alpha * jnp.exp(x) - alpha)\n",
    "\n",
    "x = jnp.arange(5)\n",
    "print(selu(x))"
   ]
  },
  {
   "cell_type": "code",
   "execution_count": 5,
   "metadata": {},
   "outputs": [
    {
     "name": "stdout",
     "output_type": "stream",
     "text": [
      "<nanobind.nb_bound_method object at 0x11fd86d40>\n",
      "1.46 ms ± 28 μs per loop (mean ± std. dev. of 7 runs, 1,000 loops each)\n"
     ]
    }
   ],
   "source": [
    "from jax import random\n",
    "key = random.key(69)\n",
    "x = random.normal(key, (1000000,))\n",
    "print(selu(x).block_until_ready)\n",
    "%timeit selu(x).block_until_ready() # This seems to call a nanobinding on C++ below python ?"
   ]
  },
  {
   "cell_type": "code",
   "execution_count": 6,
   "metadata": {},
   "outputs": [
    {
     "name": "stdout",
     "output_type": "stream",
     "text": [
      "<nanobind.nb_bound_method object at 0x11faf5380>\n",
      "448 μs ± 9.85 μs per loop (mean ± std. dev. of 7 runs, 1,000 loops each)\n"
     ]
    }
   ],
   "source": [
    "from jax import random\n",
    "from jax import jit\n",
    "key = random.key(69)\n",
    "x = random.normal(key, (1000000,))\n",
    "print(selu(x).block_until_ready)\n",
    "%timeit jit(selu)(x).block_until_ready() # This seems to call a nanobinding on C++ below python ?"
   ]
  },
  {
   "cell_type": "markdown",
   "metadata": {},
   "source": [
    "Damn, got that nice 50% speedup !"
   ]
  },
  {
   "cell_type": "markdown",
   "metadata": {},
   "source": [
    "JAX is also about autograd, or methods that perform gradients for us on functions."
   ]
  },
  {
   "cell_type": "code",
   "execution_count": 3,
   "metadata": {},
   "outputs": [
    {
     "name": "stdout",
     "output_type": "stream",
     "text": [
      "[0. 1. 2.]\n",
      "[0.25       0.19661197 0.10499357]\n"
     ]
    }
   ],
   "source": [
    "from jax import grad\n",
    "\n",
    "def sum_logistic(x):\n",
    "    return jnp.sum(1.0/ (1.0 + jnp.exp(-x))) # sigmoid time\n",
    "\n",
    "x_small = jnp.arange(3.)\n",
    "print(x_small)\n",
    "derivative_fn = grad(sum_logistic)\n",
    "print(derivative_fn(x_small))"
   ]
  },
  {
   "cell_type": "code",
   "execution_count": 4,
   "metadata": {},
   "outputs": [
    {
     "name": "stdout",
     "output_type": "stream",
     "text": [
      "[[1. 0. 0.]\n",
      " [0. 1. 0.]\n",
      " [0. 0. 1.]]\n",
      "[0.25000572 0.19661188 0.10499954]\n",
      "[[1. 0. 0.]\n",
      " [0. 1. 0.]\n",
      " [0. 0. 1.]]\n"
     ]
    }
   ],
   "source": [
    "import jax.numpy as jnp\n",
    "print(jnp.eye(3))\n",
    "# Checking that it's correct\n",
    "def first_finite_diff(f, x, eps=1e-2):\n",
    "    return jnp.array([(f(x + eps * v) - f(x - eps * v))/ (2*eps) for v in jnp.eye(len(x))])\n",
    "\n",
    "print(first_finite_diff(sum_logistic, x_small))\n",
    "print(jnp.eye(len(x_small)))\n",
    "    "
   ]
  },
  {
   "cell_type": "markdown",
   "metadata": {},
   "source": [
    "Differentiation can go much further, with forward and reverse mode jacobians as well as hessians being available."
   ]
  },
  {
   "cell_type": "markdown",
   "metadata": {},
   "source": [
    "We can also use vmap to map functions. JAX transforms the function into a vector that is applied."
   ]
  },
  {
   "cell_type": "code",
   "execution_count": 5,
   "metadata": {},
   "outputs": [],
   "source": [
    "import jax \n",
    "import jax.random as random\n",
    "key1, key2 = jax.random.split(jax.random.PRNGKey(9), 2)\n",
    "\n",
    "\n",
    "mat = random.normal(key2, shape=(150, 100))\n",
    "batched_x = random.normal(key1, shape=(10, 100))\n",
    "\n",
    "def mat_mul(x):\n",
    "    return jnp.dot(mat, x)"
   ]
  },
  {
   "cell_type": "markdown",
   "metadata": {},
   "source": [
    "Naive version"
   ]
  },
  {
   "cell_type": "code",
   "execution_count": 7,
   "metadata": {},
   "outputs": [
    {
     "name": "stdout",
     "output_type": "stream",
     "text": [
      "naive\n",
      "409 μs ± 3 μs per loop (mean ± std. dev. of 7 runs, 1,000 loops each)\n"
     ]
    }
   ],
   "source": [
    "def naively_batched_apply_matrix(v_batched):\n",
    "    return jnp.stack([mat_mul(v) for v in v_batched])\n",
    "\n",
    "print(\"naive\")\n",
    "%timeit naively_batched_apply_matrix(batched_x).block_until_ready()"
   ]
  },
  {
   "cell_type": "code",
   "execution_count": 8,
   "metadata": {},
   "outputs": [
    {
     "name": "stdout",
     "output_type": "stream",
     "text": [
      "29.6 μs ± 297 ns per loop (mean ± std. dev. of 7 runs, 10,000 loops each)\n"
     ]
    }
   ],
   "source": [
    "@jax.jit\n",
    "def vmapped(x):\n",
    "    return jax.vmap(mat_mul)(x)\n",
    "\n",
    "\n",
    "%timeit vmapped(batched_x).block_until_ready()\n"
   ]
  },
  {
   "cell_type": "code",
   "execution_count": null,
   "metadata": {},
   "outputs": [],
   "source": []
  }
 ],
 "metadata": {
  "kernelspec": {
   "display_name": "jaxtts",
   "language": "python",
   "name": "python3"
  },
  "language_info": {
   "codemirror_mode": {
    "name": "ipython",
    "version": 3
   },
   "file_extension": ".py",
   "mimetype": "text/x-python",
   "name": "python",
   "nbconvert_exporter": "python",
   "pygments_lexer": "ipython3",
   "version": "3.11.10"
  }
 },
 "nbformat": 4,
 "nbformat_minor": 2
}
