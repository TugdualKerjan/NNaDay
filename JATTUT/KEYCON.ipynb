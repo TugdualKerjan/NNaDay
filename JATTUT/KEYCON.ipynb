{
 "cells": [
  {
   "cell_type": "markdown",
   "metadata": {},
   "source": [
    "Part 2 of JAX TUT"
   ]
  },
  {
   "cell_type": "markdown",
   "metadata": {},
   "source": [
    "Jax has a internal typing thing, will really help to assert things in code !https://jax.readthedocs.io/en/latest/jax.typing.html#module-jax.typing"
   ]
  },
  {
   "cell_type": "markdown",
   "metadata": {},
   "source": []
  },
  {
   "cell_type": "code",
   "execution_count": 4,
   "metadata": {},
   "outputs": [
    {
     "data": {
      "text/plain": [
       "{CpuDevice(id=0)}"
      ]
     },
     "execution_count": 4,
     "metadata": {},
     "output_type": "execute_result"
    }
   ],
   "source": [
    "import jax\n",
    "\n",
    "array = jax.numpy.linspace(4, 10)\n",
    "array.devices()"
   ]
  },
  {
   "cell_type": "code",
   "execution_count": 6,
   "metadata": {},
   "outputs": [
    {
     "data": {
      "text/plain": [
       "SingleDeviceSharding(device=CpuDevice(id=0), memory_kind=unpinned_host)"
      ]
     },
     "execution_count": 6,
     "metadata": {},
     "output_type": "execute_result"
    }
   ],
   "source": [
    "array.sharding"
   ]
  },
  {
   "cell_type": "code",
   "execution_count": 8,
   "metadata": {},
   "outputs": [
    {
     "name": "stdout",
     "output_type": "stream",
     "text": [
      "1.05\n"
     ]
    }
   ],
   "source": [
    "import jax.numpy as jnp\n",
    "\n",
    "def selu(x, alpha=1.67, l=1.05):\n",
    "    return l * jnp.where(x>0,x,alpha* jnp.exp(x) -alpha)\n",
    "\n",
    "selu_jit = jax.jit(selu)\n",
    "print(selu_jit(1.0))"
   ]
  },
  {
   "cell_type": "markdown",
   "metadata": {},
   "source": [
    "Tracers extract the operations the array goes through when going through the transformations."
   ]
  },
  {
   "cell_type": "code",
   "execution_count": 10,
   "metadata": {},
   "outputs": [
    {
     "name": "stdout",
     "output_type": "stream",
     "text": [
      "Traced<ShapedArray(int32[5])>with<DynamicJaxprTrace(level=1/0)>\n",
      "[1 2 3 4 5]\n"
     ]
    }
   ],
   "source": [
    "@jax.jit\n",
    "def f(x):\n",
    "    print(x)\n",
    "    return x+1\n",
    "\n",
    "x = jnp.arange(5)\n",
    "print(f(x))"
   ]
  },
  {
   "cell_type": "markdown",
   "metadata": {},
   "source": [
    "Tracers help with finding the sequence of opersations. JAX then uses transfomations to obtain a representation of a functional projram"
   ]
  },
  {
   "cell_type": "code",
   "execution_count": 13,
   "metadata": {},
   "outputs": [
    {
     "data": {
      "text/plain": [
       "{ lambda ; a:i32[5]. let\n",
       "    b:bool[5] = gt a 0\n",
       "    c:f32[5] = convert_element_type[new_dtype=float32 weak_type=False] a\n",
       "    d:f32[5] = exp c\n",
       "    e:f32[5] = mul 1.6699999570846558 d\n",
       "    f:f32[5] = sub e 1.6699999570846558\n",
       "    g:f32[5] = pjit[\n",
       "      name=_where\n",
       "      jaxpr={ lambda ; h:bool[5] i:i32[5] j:f32[5]. let\n",
       "          k:f32[5] = convert_element_type[new_dtype=float32 weak_type=False] i\n",
       "          l:f32[5] = select_n h j k\n",
       "        in (l,) }\n",
       "    ] b a f\n",
       "    m:f32[5] = mul 1.0499999523162842 g\n",
       "  in (m,) }"
      ]
     },
     "execution_count": 13,
     "metadata": {},
     "output_type": "execute_result"
    }
   ],
   "source": [
    "def selu(x, alpha=1.67, lambda_=1.05):\n",
    "  return lambda_ * jnp.where(x > 0, x, alpha * jnp.exp(x) - alpha)\n",
    "\n",
    "x = jnp.arange(5)\n",
    "jax.make_jaxpr(selu)(x)"
   ]
  },
  {
   "cell_type": "markdown",
   "metadata": {},
   "source": [
    "JAX also uses trees to structure the chaotic informations of neural networks for example\n"
   ]
  },
  {
   "cell_type": "code",
   "execution_count": null,
   "metadata": {},
   "outputs": [
    {
     "name": "stdout",
     "output_type": "stream",
     "text": [
      "PyTreeDef([*, *, *, (*, *), *])\n",
      "PyTreeDef((*, *))\n",
      "PyTreeDef(*)\n",
      "[3, 32, 3, True]\n"
     ]
    }
   ],
   "source": [
    "params = [1, 2, jnp.arange(4), (4, 2), jnp.ones(1)]\n",
    "\n",
    "print(jax.tree.structure(params)) # Seems like a list is a pytree\n",
    "print(jax.tree.structure((3, 2)))\n",
    "print(jax.tree.structure(3))\n",
    "\n",
    "print(jax.tree.leaves((3, ([32, 3], True))))"
   ]
  },
  {
   "cell_type": "code",
   "execution_count": 26,
   "metadata": {},
   "outputs": [
    {
     "name": "stdout",
     "output_type": "stream",
     "text": [
      "PyTreeDef({'b': *, 'first': *, 'second': *})\n",
      "[Array([0., 0.], dtype=float32), 4, Array([[1., 1.],\n",
      "       [1., 1.],\n",
      "       [1., 1.]], dtype=float32)]\n"
     ]
    },
    {
     "data": {
      "text/plain": [
       "1"
      ]
     },
     "execution_count": 26,
     "metadata": {},
     "output_type": "execute_result"
    }
   ],
   "source": [
    "params = {\"first\": 4, \"second\": jnp.ones((3, 2)), \"b\": jnp.zeros(2)}\n",
    "\n",
    "print(jax.tree.structure(params))\n",
    "print(jax.tree.leaves(params))\n",
    "\n",
    "# Named tuple of parameters\n",
    "from typing import NamedTuple\n",
    "\n",
    "class Params(NamedTuple):\n",
    "  a: int\n",
    "  b: float\n",
    "\n",
    "params = Params(1, 5.0)\n",
    "params.a"
   ]
  },
  {
   "cell_type": "code",
   "execution_count": null,
   "metadata": {},
   "outputs": [],
   "source": []
  }
 ],
 "metadata": {
  "kernelspec": {
   "display_name": "jaxtts",
   "language": "python",
   "name": "python3"
  },
  "language_info": {
   "codemirror_mode": {
    "name": "ipython",
    "version": 3
   },
   "file_extension": ".py",
   "mimetype": "text/x-python",
   "name": "python",
   "nbconvert_exporter": "python",
   "pygments_lexer": "ipython3",
   "version": "3.11.10"
  }
 },
 "nbformat": 4,
 "nbformat_minor": 2
}
