{
 "cells": [
  {
   "cell_type": "markdown",
   "metadata": {},
   "source": [
    "We're going to use the Generator and discriminators to thus train on the LJSpeech dataset. The dataset consists of around 13,000 samples reading from 7 non-fiction books. They vary from 1 - 10 seconds and total around 24h.  \n",
    "\n"
   ]
  },
  {
   "cell_type": "code",
   "execution_count": null,
   "metadata": {},
   "outputs": [],
   "source": [
    "import argparse\n",
    "import jax\n",
    "import os\n",
    "\n",
    "from Generator import Generator\n",
    "from Discriminators import MultiPeriodDiscriminator, MultiScaleDiscriminator, feature_loss, generator_loss, discriminator_loss\n",
    "\n",
    "def create_parser():\n",
    "    parser = argparse.ArgumentParser(description=\"Arguments for training HiFiGaN\")\n",
    "\n",
    "    parser.add_argument(\"--dataset_path\", \"Path to the dataset to use (LJSpeech)\")\n",
    "\n",
    "    parser.add_argument(\"--learning_rate\", \"Learning rate during training\")\n",
    "\n",
    "    parser.add_argument(\"--output_path\", \"Path to store model weights\")\n",
    "\n",
    "    return parser\n",
    "\n",
    "\n",
    "\n",
    "\n",
    "def train_hifigan(dataset_path, output_path, learning_rate):\n",
    "    key = jax.random.PRNG()\n",
    "\n",
    "    key1, key2, key3 = jax.random.split(key, 3)\n",
    "\n",
    "    generator = Generator(channels_in=80, channels_out=1, key=key1)\n",
    "    scale_disc = MultiScaleDiscriminator(key=key2)\n",
    "    period_disc = MultiPeriodDiscriminator(key=key3)\n",
    "\n",
    "    dataset = \n",
    "\n",
    "\n",
    "if __name__ == \"__main__\":\n",
    "    parser = create_parser()\n",
    "    args = parser.parse_args()\n",
    "\n",
    "    train_hifigan(dataset_path=args.dataset_path, output_path=args.output_path, learning_rate=args.learning_rate)\n"
   ]
  }
 ],
 "metadata": {
  "kernelspec": {
   "display_name": "jaxtts",
   "language": "python",
   "name": "python3"
  },
  "language_info": {
   "name": "python",
   "version": "3.11.10"
  }
 },
 "nbformat": 4,
 "nbformat_minor": 2
}
