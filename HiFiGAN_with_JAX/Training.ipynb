{
 "cells": [
  {
   "cell_type": "markdown",
   "metadata": {},
   "source": [
    "We're going to use the Generator and discriminators to thus train on the LJSpeech dataset. The dataset consists of around 13,000 samples reading from 7 non-fiction books. They vary from 1 - 10 seconds and total around 24h.  \n",
    "\n"
   ]
  },
  {
   "cell_type": "code",
   "execution_count": null,
   "metadata": {},
   "outputs": [],
   "source": [
    "import os\n",
    "import librosa\n",
    "import numpy as np\n",
    "import soundfile as sf\n",
    "\n",
    "def wav_to_mel(wav_path, mel_path=80, sr=22050, n_fft=1024, hop_size=256, win_length=1024, n_mels=128, n_freq=1024, fmin=0, fmax=8000):\n",
    "    # Load the audio file\n",
    "    y, _ = librosa.load(wav_path, sr=sr)\n",
    "    \n",
    "    # Compute the Mel spectrogram\n",
    "    mel_spectrogram = librosa.feature.melspectrogram(y=y, sr=sr, n_fft=n_fft, hop_size=hop_size, win_length=win_length, n_mels=n_mels, n_freq=n_freq, fmin=fmin, fmax=fmax)\n",
    "    \n",
    "    # Convert to decibels\n",
    "    mel_spectrogram_db = librosa.power_to_db(mel_spectrogram, ref=np.max)\n",
    "    \n",
    "    # Save the Mel spectrogram as a numpy file\n",
    "    np.save(mel_path, mel_spectrogram_db)\n",
    "\n",
    "def process_dataset(dataset_path):\n",
    "    # Create output directories for Mel spectrograms and wave files\n",
    "    mel_dir = os.path.join(dataset_path, 'mel_spectrograms')\n",
    "    wav_dir = os.path.join(dataset_path, 'processed_wavs')\n",
    "    os.makedirs(mel_dir, exist_ok=True)\n",
    "    os.makedirs(wav_dir, exist_ok=True)\n",
    "\n",
    "    # Process each WAV file in the dataset_path\n",
    "    for filename in os.listdir(dataset_path):\n",
    "        if filename.endswith('.wav'):\n",
    "            wav_path = os.path.join(dataset_path, filename)\n",
    "            mel_path = os.path.join(mel_dir, filename.replace('.wav', '.npy'))\n",
    "            processed_wav_path = os.path.join(wav_dir, filename)\n",
    "            \n",
    "            # Transform WAV to Mel spectrogram\n",
    "            wav_to_mel(wav_path, mel_path)\n",
    "            \n",
    "            # Optionally, you can copy or modify the wav file\n",
    "            # For now, let's just copy it to the processed_wavs directory\n",
    "            sf.write(processed_wav_path, librosa.load(wav_path)[0], 22050)\n"
   ]
  },
  {
   "cell_type": "code",
   "execution_count": null,
   "metadata": {},
   "outputs": [],
   "source": [
    "import argparse\n",
    "import jax\n",
    "import os\n",
    "\n",
    "from Generator import Generator\n",
    "from Discriminators import MultiPeriodDiscriminator, MultiScaleDiscriminator, feature_loss, generator_loss, discriminator_loss\n",
    "\n",
    "def create_parser():\n",
    "    parser = argparse.ArgumentParser(description=\"Arguments for training HiFiGaN\")\n",
    "\n",
    "    parser.add_argument(\"--dataset_path\", \"Path to the dataset to use (LJSpeech)\")\n",
    "\n",
    "    parser.add_argument(\"--learning_rate\", \"Learning rate during training\")\n",
    "\n",
    "    parser.add_argument(\"--output_path\", \"Path to store model weights\")\n",
    "\n",
    "    return parser\n",
    "\n",
    "\n",
    "\n",
    "\n",
    "def train_hifigan(dataset_path, output_path, learning_rate):\n",
    "    key = jax.random.PRNG()\n",
    "\n",
    "    key1, key2, key3 = jax.random.split(key, 3)\n",
    "\n",
    "    generator = Generator(channels_in=80, channels_out=1, key=key1)\n",
    "    scale_disc = MultiScaleDiscriminator(key=key2)\n",
    "    period_disc = MultiPeriodDiscriminator(key=key3)\n",
    "\n",
    "    dataset = \n",
    "\n",
    "\n",
    "if __name__ == \"__main__\":\n",
    "    parser = create_parser()\n",
    "    args = parser.parse_args()\n",
    "\n",
    "    train_hifigan(dataset_path=args.dataset_path, output_path=args.output_path, learning_rate=args.learning_rate)\n"
   ]
  }
 ],
 "metadata": {
  "kernelspec": {
   "display_name": "jaxtts",
   "language": "python",
   "name": "python3"
  },
  "language_info": {
   "name": "python",
   "version": "3.11.10"
  }
 },
 "nbformat": 4,
 "nbformat_minor": 2
}
