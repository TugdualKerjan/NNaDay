{
 "cells": [
  {
   "cell_type": "code",
   "execution_count": null,
   "metadata": {},
   "outputs": [],
   "source": [
    "import os\n",
    "import librosa\n",
    "import numpy as np\n",
    "import soundfile as sf\n",
    "\n",
    "def wav_to_mel(wav_path, mel_path=80, sr=22050, n_fft=1024, hop_size=256, win_length=1024, n_mels=128, n_freq=1024, fmin=0, fmax=8000):\n",
    "    # Load the audio file\n",
    "    y, _ = librosa.load(wav_path, sr=sr)\n",
    "    \n",
    "    # Compute the Mel spectrogram\n",
    "    mel_spectrogram = librosa.feature.melspectrogram(y=y, sr=sr, n_fft=n_fft, hop_size=hop_size, win_length=win_length, n_mels=n_mels, n_freq=n_freq, fmin=fmin, fmax=fmax)\n",
    "    \n",
    "    # Convert to decibels\n",
    "    mel_spectrogram_db = librosa.power_to_db(mel_spectrogram, ref=np.max)\n",
    "    \n",
    "    # Save the Mel spectrogram as a numpy file\n",
    "    np.save(mel_path, mel_spectrogram_db)\n",
    "\n",
    "def process_dataset(dataset_path):\n",
    "    # Create output directories for Mel spectrograms and wave files\n",
    "    mel_dir = os.path.join(dataset_path, 'mel_spectrograms')\n",
    "    wav_dir = os.path.join(dataset_path, 'processed_wavs')\n",
    "    os.makedirs(mel_dir, exist_ok=True)\n",
    "    os.makedirs(wav_dir, exist_ok=True)\n",
    "\n",
    "    # Process each WAV file in the dataset_path\n",
    "    for filename in os.listdir(dataset_path):\n",
    "        if filename.endswith('.wav'):\n",
    "            wav_path = os.path.join(dataset_path, filename)\n",
    "            mel_path = os.path.join(mel_dir, filename.replace('.wav', '.npy'))\n",
    "            processed_wav_path = os.path.join(wav_dir, filename)\n",
    "            \n",
    "            # Transform WAV to Mel spectrogram\n",
    "            wav_to_mel(wav_path, mel_path)\n",
    "            \n",
    "            # Optionally, you can copy or modify the wav file\n",
    "            # For now, let's just copy it to the processed_wavs directory\n",
    "            sf.write(processed_wav_path, librosa.load(wav_path)[0], 22050)\n"
   ]
  },
  {
   "cell_type": "code",
   "execution_count": null,
   "metadata": {},
   "outputs": [],
   "source": []
  }
 ],
 "metadata": {
  "kernelspec": {
   "display_name": "jaxtts",
   "language": "python",
   "name": "python3"
  },
  "language_info": {
   "name": "python",
   "version": "3.11.10"
  }
 },
 "nbformat": 4,
 "nbformat_minor": 2
}
