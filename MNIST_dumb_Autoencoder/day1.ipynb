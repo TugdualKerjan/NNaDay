{
 "cells": [
  {
   "cell_type": "code",
   "execution_count": 1,
   "metadata": {},
   "outputs": [],
   "source": [
    "import polars as pl\n",
    "\n",
    "splits = {'train': 'mnist/train-00000-of-00001.parquet', 'test': 'mnist/test-00000-of-00001.parquet'}\n",
    "df = pl.read_parquet('hf://datasets/ylecun/mnist/' + splits['train'])"
   ]
  },
  {
   "cell_type": "code",
   "execution_count": 2,
   "metadata": {},
   "outputs": [
    {
     "name": "stdout",
     "output_type": "stream",
     "text": [
      "b'\\x89PNG\\r\\n\\x1a\\n\\x00\\x00\\x00\\rIHDR\\x00\\x00\\x00\\x1c\\x00\\x00\\x00\\x1c\\x08\\x00\\x00\\x00\\x00Wf\\x80H\\x00\\x00\\x00\\xf6IDATx\\x9cc`\\x18\\xdc@e\\xd2\\xbf\\xff\\xbf\\xe3\\xd9\\xb0I1\\'\\xbe\\xfa\\xf7\\xef\\xc5\\xbf\\x7f\\xcaX\\xe4\"{\\xfe\\xfd[\\xe7\\xacx\\xe2\\xdf>L\\xb9\\x9c\\xbf\\xff^\\x1b320\\xf0\\xfc\\xfbk\\x81.\\xc7s\\xe3\\xdf\\x17s\\x06\\x06\\x06\\x06\\xb6\\xab\\xff,!BLpI^5\\x86\\t\\'\\x19\\x18\\x18\\x18~]\\x86\\t!$E\\x18\\xbe\\xceC3\\x0c!\\x19\\xcc\\xb0\\xea\\x1e.I\\xe1\\x14\\x863\\x10\\x16\\xbb\\r\\x86\\xa4\\xba\\x14\\xc3;\\x08\\x8bY\\xea\\xc774#\\xac\\xfe\\xfd\\xe3\\x84\\xb0\\xb8\\xfe]\\xc2\\xb0\\x13\\x0e\\xe2\\x19:\\xd1\\x85XoCuJ<\\xfb\\'\\x81\\xae\\xf3\\xf7_(\\xc3F\\xe2\\xef\\x7f\\x0c\\xd3n\\xfcSa```\\x10\\xbb\\xf0;\\x0e\\xd3\\xaa\\xc6\\x7f\\x15\\x0c\\x0c\\x0c\\xcc=\\xff\\x9eb\\xca1\\x04\\xff\\xbb\\'\\xc8\\xc0\\x10\\xfd\\xef\\x8d)\\x16I\\xa1\\xd7\\xff\\xdaD\\xcb\\xdf\\xfe\\xab\\xc1\"\\xc7\\xc0`\\xfa\\xf3\\xdf\\xab?\\xff\\xd60c\\x95d(y\\xfb\\xef_\\xab\\x08v9j\\x02\\x00\\x03\\xd3Q2S\\xd8\\\\5\\x00\\x00\\x00\\x00IEND\\xaeB`\\x82'\n"
     ]
    },
    {
     "data": {
      "image/jpeg": "[encoded data removed]",
      "image/png": "[encoded data removed]",
      "text/plain": [
       "<PIL.PngImagePlugin.PngImageFile image mode=L size=28x28>"
      ]
     },
     "metadata": {},
     "output_type": "display_data"
    }
   ],
   "source": [
    "from PIL import Image\n",
    "import IPython.display as display\n",
    "import io\n",
    "\n",
    "print(df[\"image\"][1000][\"bytes\"])\n",
    "image_data = df[\"image\"][1000][\"bytes\"]\n",
    "\n",
    "image = Image.open(io.BytesIO(image_data))\n",
    "image.show()"
   ]
  },
  {
   "cell_type": "code",
   "execution_count": 3,
   "metadata": {},
   "outputs": [
    {
     "name": "stdout",
     "output_type": "stream",
     "text": [
      "<class 'polars.series.series.Series'>\n",
      "shape: (60_000, 3)\n",
      "┌─────────────────────────────────┬───────┬─────────────────────────────────┐\n",
      "│ image                           ┆ label ┆ tensor                          │\n",
      "│ ---                             ┆ ---   ┆ ---                             │\n",
      "│ struct[2]                       ┆ i64   ┆ object                          │\n",
      "╞═════════════════════════════════╪═══════╪═════════════════════════════════╡\n",
      "│ {b\"\\x89PNG\\x0d\\x0a\\x1a\\x0a\\x00… ┆ 5     ┆ tensor([0.0000, 0.0000, 0.0000… │\n",
      "│ {b\"\\x89PNG\\x0d\\x0a\\x1a\\x0a\\x00… ┆ 0     ┆ tensor([0.0000, 0.0000, 0.0000… │\n",
      "│ {b\"\\x89PNG\\x0d\\x0a\\x1a\\x0a\\x00… ┆ 4     ┆ tensor([0.0000, 0.0000, 0.0000… │\n",
      "│ {b\"\\x89PNG\\x0d\\x0a\\x1a\\x0a\\x00… ┆ 1     ┆ tensor([0.0000, 0.0000, 0.0000… │\n",
      "│ {b\"\\x89PNG\\x0d\\x0a\\x1a\\x0a\\x00… ┆ 9     ┆ tensor([0.0000, 0.0000, 0.0000… │\n",
      "│ …                               ┆ …     ┆ …                               │\n",
      "│ {b\"\\x89PNG\\x0d\\x0a\\x1a\\x0a\\x00… ┆ 8     ┆ tensor([0.0000, 0.0000, 0.0000… │\n",
      "│ {b\"\\x89PNG\\x0d\\x0a\\x1a\\x0a\\x00… ┆ 3     ┆ tensor([0.0000, 0.0000, 0.0000… │\n",
      "│ {b\"\\x89PNG\\x0d\\x0a\\x1a\\x0a\\x00… ┆ 5     ┆ tensor([0.0000, 0.0000, 0.0000… │\n",
      "│ {b\"\\x89PNG\\x0d\\x0a\\x1a\\x0a\\x00… ┆ 6     ┆ tensor([0.0000, 0.0000, 0.0000… │\n",
      "│ {b\"\\x89PNG\\x0d\\x0a\\x1a\\x0a\\x00… ┆ 8     ┆ tensor([0.0000, 0.0000, 0.0000… │\n",
      "└─────────────────────────────────┴───────┴─────────────────────────────────┘\n"
     ]
    }
   ],
   "source": [
    "# Convert images to tensors that can be trained on\n",
    "import numpy as np\n",
    "from torch import tensor\n",
    "import torch\n",
    "\n",
    "dataset = []\n",
    "\n",
    "def transform_image(image):\n",
    "    image = Image.open(io.BytesIO(image[\"bytes\"]))\n",
    "    data = np.array(image)\n",
    "    return tensor(data, dtype=torch.float32).flatten()/256\n",
    "\n",
    "print(type(df[\"image\"]))\n",
    "\n",
    "df = df.with_columns([\n",
    "    pl.Series(\"tensor\", [transform_image(img) for img in df['image'].to_list()])\n",
    "])\n",
    "\n",
    "# df[\"tensor\"] = df[\"image\"].apply(lambda x: transform_image(x[\"bytes\"]))\n",
    "print(df)"
   ]
  },
  {
   "cell_type": "code",
   "execution_count": 4,
   "metadata": {},
   "outputs": [
    {
     "data": {
      "text/plain": [
       "784"
      ]
     },
     "execution_count": 4,
     "metadata": {},
     "output_type": "execute_result"
    }
   ],
   "source": [
    "df[\"tensor\"][0].size()[0]"
   ]
  },
  {
   "cell_type": "markdown",
   "metadata": {},
   "source": [
    "MNIST database of handwritten digits. 60000 images for training and 10000 for evaluation."
   ]
  },
  {
   "cell_type": "code",
   "execution_count": 15,
   "metadata": {},
   "outputs": [],
   "source": [
    "from torch import nn\n",
    "from torch import functional as F #For training our model\n",
    "from torch import optim\n",
    "from IPython.display import clear_output, display\n",
    "\n",
    "import matplotlib.pyplot as plt\n",
    "\n",
    "class my_network(nn.Module):\n",
    "    def __init__(self, feature_size, coding_layer):\n",
    "        super().__init__()\n",
    "        self.activation_function = nn.ReLU()\n",
    "        self.encoding1 = nn.Linear(in_features=feature_size, out_features=coding_layer*5, dtype=torch.float32)\n",
    "        self.encoding2 = nn.Linear(in_features=coding_layer*5, out_features=coding_layer, dtype=torch.float32)\n",
    "        self.decoding1 = nn.Linear(in_features=coding_layer, out_features=coding_layer*5, dtype=torch.float32)\n",
    "        self.decoding2 = nn.Linear(in_features=coding_layer*5, out_features=feature_size, dtype=torch.float32)\n",
    "\n",
    "\n",
    "    def forward(self, features):\n",
    "        x = self.encoding1(features)\n",
    "        # x = self.activation_function(x)\n",
    "        x = self.encoding2(x)\n",
    "        # x = self.activation_function(x)\n",
    "        x = self.decoding1(x)\n",
    "        # x = self.activation_function(x)\n",
    "        x = self.decoding2(x)\n",
    "        # x = self.activation_function(x)\n",
    "        return x\n",
    "\n",
    "def train(epochs: int):\n",
    "    network = my_network(df[\"tensor\"][0].size()[0], 10)\n",
    "\n",
    "    loss_function = nn.MSELoss() # Since we're working with softmax\n",
    "    optimizer = optim.Adam(network.parameters(), lr=0.001)\n",
    "\n",
    "    for epoch in range(0, epochs):\n",
    "        epoch_loss = 0\n",
    "        for image in df[\"tensor\"].sample(150):\n",
    "            clear_output(wait=True)\n",
    "\n",
    "            # print(image)\n",
    "            optimizer.zero_grad()\n",
    "            output = network(image)\n",
    "\n",
    "            # print(output)\n",
    "            # print(image)\n",
    "            loss = loss_function(output, image)\n",
    "            epoch_loss = epoch_loss+ loss\n",
    "            loss.backward()\n",
    "            print(loss)\n",
    "            optimizer.step()\n",
    "            fig, ax = plt.subplots(1, 1, figsize=(5, 5))\n",
    "\n",
    "            ax.imshow(output.detach().numpy().reshape((28, 28))*256, cmap='gray')\n",
    "                        # Render the updated figure\n",
    "            display(fig)\n",
    "            \n",
    "            # Close the figure to avoid redundancy\n",
    "            plt.close(fig)\n",
    "            # break\n",
    "        print(f'Epoch {epoch+1}/{epochs}, Loss: {epoch_loss/len(df[\"tensor\"])}')"
   ]
  },
  {
   "cell_type": "code",
   "execution_count": 18,
   "metadata": {},
   "outputs": [
    {
     "name": "stdout",
     "output_type": "stream",
     "text": [
      "tensor(0.0382, grad_fn=<MseLossBackward0>)\n"
     ]
    },
    {
     "data": {
      "image/png": "[encoded data removed]",
      "text/plain": [
       "<Figure size 500x500 with 1 Axes>"
      ]
     },
     "metadata": {},
     "output_type": "display_data"
    },
    {
     "name": "stdout",
     "output_type": "stream",
     "text": [
      "Epoch 10/10, Loss: 9.386472083861008e-05\n"
     ]
    }
   ],
   "source": [
    "train(10)"
   ]
  },
  {
   "cell_type": "code",
   "execution_count": 17,
   "metadata": {},
   "outputs": [
    {
     "data": {
      "text/plain": [
       "'model_graph.png'"
      ]
     },
     "execution_count": 17,
     "metadata": {},
     "output_type": "execute_result"
    }
   ],
   "source": [
    "from torchview import draw_graph\n",
    "\n",
    "model_graph = draw_graph(my_network(df[\"tensor\"][0].size()[0], 10), input_size=df[\"tensor\"][0].size(), expand_nested=True)\n",
    "model_graph.visual_graph.render(\"./model_graph\", cleanup=True, format='png')"
   ]
  },
  {
   "cell_type": "code",
   "execution_count": null,
   "metadata": {},
   "outputs": [],
   "source": []
  }
 ],
 "metadata": {
  "kernelspec": {
   "display_name": "Python 3",
   "language": "python",
   "name": "python3"
  },
  "language_info": {
   "codemirror_mode": {
    "name": "ipython",
    "version": 3
   },
   "file_extension": ".py",
   "mimetype": "text/x-python",
   "name": "python",
   "nbconvert_exporter": "python",
   "pygments_lexer": "ipython3",
   "version": "3.10.12"
  }
 },
 "nbformat": 4,
 "nbformat_minor": 2
}
